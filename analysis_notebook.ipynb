{
  "nbformat": 4,
  "nbformat_minor": 0,
  "metadata": {
    "colab": {
      "provenance": []
    },
    "kernelspec": {
      "name": "python3",
      "display_name": "Python 3"
    },
    "language_info": {
      "name": "python"
    }
  },
  "cells": [
    {
      "cell_type": "code",
      "execution_count": 3,
      "metadata": {
        "colab": {
          "base_uri": "https://localhost:8080/",
          "height": 1000
        },
        "id": "5d8ZgaZAzcBI",
        "outputId": "b4a20e08-5cb3-4fd8-e6a3-08926be37ae9"
      },
      "outputs": [
        {
          "output_type": "stream",
          "name": "stdout",
          "text": [
            "--- Difference-in-Differences Analysis ---\n",
            "Target Metric: Average View Duration (minutes)\n",
            "                                OLS Regression Results                               \n",
            "=====================================================================================\n",
            "Dep. Variable:     avg_view_duration_minutes   R-squared:                       0.915\n",
            "Model:                                   OLS   Adj. R-squared:                  0.915\n",
            "Method:                        Least Squares   F-statistic:                 8.241e+04\n",
            "Date:                       Wed, 06 Aug 2025   Prob (F-statistic):               0.00\n",
            "Time:                               05:21:53   Log-Likelihood:                -49581.\n",
            "No. Observations:                      22939   AIC:                         9.917e+04\n",
            "Df Residuals:                          22935   BIC:                         9.920e+04\n",
            "Df Model:                                  3                                         \n",
            "Covariance Type:                   nonrobust                                         \n",
            "======================================================================================\n",
            "                         coef    std err          t      P>|t|      [0.025      0.975]\n",
            "--------------------------------------------------------------------------------------\n",
            "Intercept             30.0383      0.031    962.863      0.000      29.977      30.099\n",
            "is_treatment_group    -0.0281      0.044     -0.639      0.523      -0.114       0.058\n",
            "is_post_policy        -0.0661      0.040     -1.643      0.100      -0.145       0.013\n",
            "interaction          -14.9518      0.057   -263.786      0.000     -15.063     -14.841\n",
            "==============================================================================\n",
            "Omnibus:                      686.691   Durbin-Watson:                   1.993\n",
            "Prob(Omnibus):                  0.000   Jarque-Bera (JB):              346.757\n",
            "Skew:                           0.088   Prob(JB):                     5.04e-76\n",
            "Kurtosis:                       2.424   Cond. No.                         7.70\n",
            "==============================================================================\n",
            "\n",
            "Notes:\n",
            "[1] Standard Errors assume that the covariance matrix of the errors is correctly specified.\n",
            "\n",
            "Estimated Causal Effect on Average View Duration: -14.95 minutes\n",
            "--------------------------------------------------\n",
            "Target Metric: Total Viewers\n",
            "                            OLS Regression Results                            \n",
            "==============================================================================\n",
            "Dep. Variable:          total_viewers   R-squared:                       0.786\n",
            "Model:                            OLS   Adj. R-squared:                  0.786\n",
            "Method:                 Least Squares   F-statistic:                 2.808e+04\n",
            "Date:                Wed, 06 Aug 2025   Prob (F-statistic):               0.00\n",
            "Time:                        05:21:53   Log-Likelihood:            -1.8332e+05\n",
            "No. Observations:               22939   AIC:                         3.667e+05\n",
            "Df Residuals:                   22935   BIC:                         3.667e+05\n",
            "Df Model:                           3                                         \n",
            "Covariance Type:            nonrobust                                         \n",
            "======================================================================================\n",
            "                         coef    std err          t      P>|t|      [0.025      0.975]\n",
            "--------------------------------------------------------------------------------------\n",
            "Intercept               1e+04     10.622    941.855      0.000    9983.500       1e+04\n",
            "is_treatment_group   -20.3861     14.969     -1.362      0.173     -49.727       8.955\n",
            "is_post_policy       -21.1153     13.696     -1.542      0.123     -47.960       5.729\n",
            "interaction        -2956.4680     19.299   -153.193      0.000   -2994.295   -2918.641\n",
            "==============================================================================\n",
            "Omnibus:                      623.924   Durbin-Watson:                   2.000\n",
            "Prob(Omnibus):                  0.000   Jarque-Bera (JB):              344.385\n",
            "Skew:                           0.123   Prob(JB):                     1.65e-75\n",
            "Kurtosis:                       2.453   Cond. No.                         7.70\n",
            "==============================================================================\n",
            "\n",
            "Notes:\n",
            "[1] Standard Errors assume that the covariance matrix of the errors is correctly specified.\n",
            "\n",
            "Estimated Causal Effect on Total Viewers: -2956.47\n",
            "--------------------------------------------------\n",
            "\n",
            "--- Interpretation of Results ---\n",
            "The coefficient for the 'interaction' term in a DiD model represents the causal effect of the treatment (the policy change) on the treatment group (DJs using copyrighted music), assuming the parallel trends assumption holds.\n"
          ]
        },
        {
          "output_type": "execute_result",
          "data": {
            "text/plain": [
              "\"\\nThe analysis validates our initial hypothesis: the restrictions on music have directly harmed key engagement metrics for a critical segment of the platform's music creators. These findings highlight an urgent need for intervention to retain these creators and their audience. The next phase will focus on translating these quantitative findings into actionable business recommendations.\\n\""
            ],
            "application/vnd.google.colaboratory.intrinsic+json": {
              "type": "string"
            }
          },
          "metadata": {},
          "execution_count": 3
        }
      ],
      "source": [
        "# Import necessary libraries\n",
        "import pandas as pd\n",
        "import statsmodels.formula.api as smf\n",
        "\n",
        "# --- Data Loading and Preparation ---\n",
        "# Load the unified dataset\n",
        "df = pd.read_csv('dj_livestream_metrics.csv')\n",
        "df['date'] = pd.to_datetime(df['date'])\n",
        "\n",
        "# Define the policy change date\n",
        "policy_change_date = pd.to_datetime('2025-07-01')\n",
        "\n",
        "# Create the key variables for the DiD model\n",
        "df['is_post_policy'] = (df['date'] >= policy_change_date).astype(int)\n",
        "df['is_treatment_group'] = df['is_treatment_group'].astype(int)\n",
        "df['interaction'] = df['is_post_policy'] * df['is_treatment_group']\n",
        "\n",
        "# --- Causal Inference using Difference-in-Differences (DiD) ---\n",
        "print(\"--- Difference-in-Differences Analysis ---\")\n",
        "print(\"Target Metric: Average View Duration (minutes)\")\n",
        "\n",
        "# Define the regression formula for DiD\n",
        "# The coefficient for 'interaction' is our causal effect estimate.\n",
        "formula = 'avg_view_duration_minutes ~ is_treatment_group + is_post_policy + interaction'\n",
        "\n",
        "# Fit the linear regression model\n",
        "did_model_duration = smf.ols(formula, data=df).fit()\n",
        "\n",
        "# Print the model summary\n",
        "print(did_model_duration.summary())\n",
        "\n",
        "# Extract the causal effect from the model results\n",
        "causal_effect_duration = did_model_duration.params['interaction']\n",
        "print(f\"\\nEstimated Causal Effect on Average View Duration: {causal_effect_duration:.2f} minutes\")\n",
        "print(\"-\" * 50)\n",
        "\n",
        "# Repeat for the secondary metric: Total Viewers\n",
        "print(\"Target Metric: Total Viewers\")\n",
        "\n",
        "formula_viewers = 'total_viewers ~ is_treatment_group + is_post_policy + interaction'\n",
        "did_model_viewers = smf.ols(formula_viewers, data=df).fit()\n",
        "\n",
        "print(did_model_viewers.summary())\n",
        "\n",
        "causal_effect_viewers = did_model_viewers.params['interaction']\n",
        "print(f\"\\nEstimated Causal Effect on Total Viewers: {causal_effect_viewers:.2f}\")\n",
        "print(\"-\" * 50)\n",
        "\n",
        "print(\"\\n--- Interpretation of Results ---\")\n",
        "print(\"The coefficient for the 'interaction' term in a DiD model represents the causal effect of the treatment (the policy change) on the treatment group (DJs using copyrighted music), assuming the parallel trends assumption holds.\")\n",
        "\n",
        "# The final block of text, which was causing the error, has been properly\n",
        "# commented out using triple quotes to prevent the syntax error.\n",
        "\"\"\"\n",
        "The analysis validates our initial hypothesis: the restrictions on music have directly harmed key engagement metrics for a critical segment of the platform's music creators. These findings highlight an urgent need for intervention to retain these creators and their audience. The next phase will focus on translating these quantitative findings into actionable business recommendations.\n",
        "\"\"\""
      ]
    }
  ]
}